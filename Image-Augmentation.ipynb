{
 "cells": [
  {
   "cell_type": "code",
   "execution_count": 56,
   "metadata": {
    "collapsed": true
   },
   "outputs": [],
   "source": [
    "# Load pickled data\n",
    "import pickle\n",
    "\n",
    "training_file = 'train.p'\n",
    "validation_file= 'valid.p'\n",
    "testing_file = 'test.p'\n",
    "\n",
    "with open(training_file, mode='rb') as f:\n",
    "    train = pickle.load(f)\n",
    "    \n",
    "X_train_init, y_train_init = train['features'], train['labels']"
   ]
  },
  {
   "cell_type": "code",
   "execution_count": 57,
   "metadata": {
    "collapsed": true
   },
   "outputs": [],
   "source": [
    "import matplotlib.image as mpimg\n",
    "import numpy as np\n",
    "import matplotlib.pyplot as plt\n",
    "import random\n",
    "import cv2\n",
    "\n",
    "%matplotlib inline\n"
   ]
  },
  {
   "cell_type": "markdown",
   "metadata": {},
   "source": [
    "# Image Operations"
   ]
  },
  {
   "cell_type": "code",
   "execution_count": 72,
   "metadata": {},
   "outputs": [
    {
     "data": {
      "image/png": "[encoded data removed]",
      "text/plain": [
       "<matplotlib.figure.Figure at 0x7f3fc2aa1470>"
      ]
     },
     "metadata": {},
     "output_type": "display_data"
    }
   ],
   "source": [
    "#index = random.randint(0, len(X_train_init))\n",
    "\n",
    "image = X_train_init[index]\n",
    "plt.imshow(image)\n",
    "\n",
    "plt.imsave('examples/limit30.png', image)"
   ]
  },
  {
   "cell_type": "code",
   "execution_count": 30,
   "metadata": {
    "collapsed": true
   },
   "outputs": [],
   "source": [
    "def rotation(img, max_angle):\n",
    "    # Rotation between -max_angle and max_angle degrees    \n",
    "    angle = random.randint(-max_angle, max_angle)\n",
    "    \n",
    "    rows, cols,ch = img.shape\n",
    "    M = cv2.getRotationMatrix2D((cols/2,rows/2),angle,1)\n",
    "    \n",
    "    return(cv2.warpAffine(img,M,(cols,rows)))\n",
    "\n",
    "\n",
    "def perspective(img):\n",
    "    rows,cols,ch = img.shape\n",
    "    \n",
    "    small1 = random.randint(0, 8)\n",
    "    small2 = random.randint(0, 8)\n",
    "    big1 = random.randint(24, 32)\n",
    "    big2 = random.randint(24, 32)\n",
    "    \n",
    "    pts1 = np.float32([[small1,small2],[big1,small1],[small2,big2],[big1,big2]])\n",
    "    pts2 = np.float32([[small2,small1],[big2,small2],[small1,big1],[big2,big1]])\n",
    "    \n",
    "    M = cv2.getPerspectiveTransform(pts1,pts2)\n",
    "    \n",
    "    return(cv2.warpPerspective(img,M,(32,32)))  \n",
    "\n",
    "\n",
    "def affine_transform(img):\n",
    "    \n",
    "    rows,cols,ch = img.shape\n",
    "    \n",
    "    small1 = random.randint(0, 6)\n",
    "    small2 = random.randint(0, 6)\n",
    "    big1 = random.randint(26, 32)\n",
    "    big2 = random.randint(26, 32)\n",
    "    \n",
    "    pts1 = np.float32([[small1,small1],[big1,small2],[small1,big1]])\n",
    "    pts2 = np.float32([[small2,small2],[big2,small1],[small2,big2]])\n",
    "    M = cv2.getAffineTransform(pts1,pts2)\n",
    "    return(cv2.warpAffine(img,M,(cols,rows)))\n",
    "\n",
    "\n",
    "def random_transform(img):\n",
    "    \n",
    "    result = np.copy(img)\n",
    "    max_angle = 20\n",
    "    \n",
    "    if(random.randint(0, 1)):\n",
    "        # Rotation of the image\n",
    "        result = rotation(img, max_angle)\n",
    "\n",
    "    if(random.randint(0, 1)):\n",
    "        # Perspective Transformation of the image\n",
    "        result = perspective(img)\n",
    "\n",
    "    if(random.randint(0, 1)):\n",
    "        # Affine Transformation of the image\n",
    "        result = affine_transform(img)\n",
    "    \n",
    "    \n",
    "    return result"
   ]
  },
  {
   "cell_type": "code",
   "execution_count": 31,
   "metadata": {},
   "outputs": [
    {
     "data": {
      "text/plain": [
       "<matplotlib.image.AxesImage at 0x7f3fab8e54a8>"
      ]
     },
     "execution_count": 31,
     "metadata": {},
     "output_type": "execute_result"
    },
    {
     "data": {
      "image/png": "[encoded data removed]",
      "text/plain": [
       "<matplotlib.figure.Figure at 0x7f3fab96d358>"
      ]
     },
     "metadata": {},
     "output_type": "display_data"
    }
   ],
   "source": [
    "image2 = random_transform(image)\n",
    "plt.imshow(image2)"
   ]
  },
  {
   "cell_type": "code",
   "execution_count": 32,
   "metadata": {},
   "outputs": [
    {
     "data": {
      "text/plain": [
       "<matplotlib.image.AxesImage at 0x7f3fab87ba90>"
      ]
     },
     "execution_count": 32,
     "metadata": {},
     "output_type": "execute_result"
    },
    {
     "data": {
      "image/png": "[encoded data removed]",
      "text/plain": [
       "<matplotlib.figure.Figure at 0x7f3fab89a550>"
      ]
     },
     "metadata": {},
     "output_type": "display_data"
    }
   ],
   "source": [
    "plt.imshow(image2)"
   ]
  },
  {
   "cell_type": "code",
   "execution_count": 33,
   "metadata": {
    "collapsed": true
   },
   "outputs": [],
   "source": [
    "image3 = perspective(image)"
   ]
  },
  {
   "cell_type": "code",
   "execution_count": 34,
   "metadata": {},
   "outputs": [
    {
     "data": {
      "text/plain": [
       "<matplotlib.image.AxesImage at 0x7f3fab79a208>"
      ]
     },
     "execution_count": 34,
     "metadata": {},
     "output_type": "execute_result"
    },
    {
     "data": {
      "image/png": "[encoded data removed]",
      "text/plain": [
       "<matplotlib.figure.Figure at 0x7f3fab82c908>"
      ]
     },
     "metadata": {},
     "output_type": "display_data"
    }
   ],
   "source": [
    "plt.imshow(image3)"
   ]
  },
  {
   "cell_type": "code",
   "execution_count": 35,
   "metadata": {},
   "outputs": [
    {
     "data": {
      "text/plain": [
       "<matplotlib.image.AxesImage at 0x7f3fab7317f0>"
      ]
     },
     "execution_count": 35,
     "metadata": {},
     "output_type": "execute_result"
    },
    {
     "data": {
      "image/png": "[encoded data removed]",
      "text/plain": [
       "<matplotlib.figure.Figure at 0x7f3fab75c940>"
      ]
     },
     "metadata": {},
     "output_type": "display_data"
    }
   ],
   "source": [
    "image4 = affine_transform(image)\n",
    "plt.imshow(image4)"
   ]
  },
  {
   "cell_type": "markdown",
   "metadata": {},
   "source": [
    "# Ordering the dataset by image class"
   ]
  },
  {
   "cell_type": "code",
   "execution_count": 36,
   "metadata": {
    "collapsed": true
   },
   "outputs": [],
   "source": [
    "import pandas as pd"
   ]
  },
  {
   "cell_type": "code",
   "execution_count": 37,
   "metadata": {},
   "outputs": [
    {
     "data": {
      "text/html": [
       "<div>\n",
       "<table border=\"1\" class=\"dataframe\">\n",
       "  <thead>\n",
       "    <tr style=\"text-align: right;\">\n",
       "      <th></th>\n",
       "      <th>SignIndex</th>\n",
       "      <th>Counts</th>\n",
       "      <th>Signal</th>\n",
       "    </tr>\n",
       "  </thead>\n",
       "  <tbody>\n",
       "    <tr>\n",
       "      <th>0</th>\n",
       "      <td>0</td>\n",
       "      <td>180</td>\n",
       "      <td>Speed limit (20km/h)</td>\n",
       "    </tr>\n",
       "    <tr>\n",
       "      <th>1</th>\n",
       "      <td>37</td>\n",
       "      <td>180</td>\n",
       "      <td>Go straight or left</td>\n",
       "    </tr>\n",
       "    <tr>\n",
       "      <th>2</th>\n",
       "      <td>19</td>\n",
       "      <td>180</td>\n",
       "      <td>Dangerous curve to the left</td>\n",
       "    </tr>\n",
       "    <tr>\n",
       "      <th>3</th>\n",
       "      <td>32</td>\n",
       "      <td>210</td>\n",
       "      <td>End of all speed and passing limits</td>\n",
       "    </tr>\n",
       "    <tr>\n",
       "      <th>4</th>\n",
       "      <td>27</td>\n",
       "      <td>210</td>\n",
       "      <td>Pedestrians</td>\n",
       "    </tr>\n",
       "    <tr>\n",
       "      <th>5</th>\n",
       "      <td>41</td>\n",
       "      <td>210</td>\n",
       "      <td>End of no passing</td>\n",
       "    </tr>\n",
       "    <tr>\n",
       "      <th>6</th>\n",
       "      <td>42</td>\n",
       "      <td>210</td>\n",
       "      <td>End of no passing by vehicles over 3.5 metric ...</td>\n",
       "    </tr>\n",
       "    <tr>\n",
       "      <th>7</th>\n",
       "      <td>24</td>\n",
       "      <td>240</td>\n",
       "      <td>Road narrows on the right</td>\n",
       "    </tr>\n",
       "    <tr>\n",
       "      <th>8</th>\n",
       "      <td>29</td>\n",
       "      <td>240</td>\n",
       "      <td>Bicycles crossing</td>\n",
       "    </tr>\n",
       "    <tr>\n",
       "      <th>9</th>\n",
       "      <td>39</td>\n",
       "      <td>270</td>\n",
       "      <td>Keep left</td>\n",
       "    </tr>\n",
       "    <tr>\n",
       "      <th>10</th>\n",
       "      <td>21</td>\n",
       "      <td>270</td>\n",
       "      <td>Double curve</td>\n",
       "    </tr>\n",
       "    <tr>\n",
       "      <th>11</th>\n",
       "      <td>40</td>\n",
       "      <td>300</td>\n",
       "      <td>Roundabout mandatory</td>\n",
       "    </tr>\n",
       "    <tr>\n",
       "      <th>12</th>\n",
       "      <td>20</td>\n",
       "      <td>300</td>\n",
       "      <td>Dangerous curve to the right</td>\n",
       "    </tr>\n",
       "    <tr>\n",
       "      <th>13</th>\n",
       "      <td>36</td>\n",
       "      <td>330</td>\n",
       "      <td>Go straight or right</td>\n",
       "    </tr>\n",
       "    <tr>\n",
       "      <th>14</th>\n",
       "      <td>22</td>\n",
       "      <td>330</td>\n",
       "      <td>Bumpy road</td>\n",
       "    </tr>\n",
       "    <tr>\n",
       "      <th>15</th>\n",
       "      <td>6</td>\n",
       "      <td>360</td>\n",
       "      <td>End of speed limit (80km/h)</td>\n",
       "    </tr>\n",
       "    <tr>\n",
       "      <th>16</th>\n",
       "      <td>16</td>\n",
       "      <td>360</td>\n",
       "      <td>Vehicles over 3.5 metric tons prohibited</td>\n",
       "    </tr>\n",
       "    <tr>\n",
       "      <th>17</th>\n",
       "      <td>34</td>\n",
       "      <td>360</td>\n",
       "      <td>Turn left ahead</td>\n",
       "    </tr>\n",
       "    <tr>\n",
       "      <th>18</th>\n",
       "      <td>30</td>\n",
       "      <td>390</td>\n",
       "      <td>Beware of ice/snow</td>\n",
       "    </tr>\n",
       "    <tr>\n",
       "      <th>19</th>\n",
       "      <td>23</td>\n",
       "      <td>450</td>\n",
       "      <td>Slippery road</td>\n",
       "    </tr>\n",
       "    <tr>\n",
       "      <th>20</th>\n",
       "      <td>28</td>\n",
       "      <td>480</td>\n",
       "      <td>Children crossing</td>\n",
       "    </tr>\n",
       "    <tr>\n",
       "      <th>21</th>\n",
       "      <td>26</td>\n",
       "      <td>540</td>\n",
       "      <td>Traffic signals</td>\n",
       "    </tr>\n",
       "    <tr>\n",
       "      <th>22</th>\n",
       "      <td>15</td>\n",
       "      <td>540</td>\n",
       "      <td>No vehicles</td>\n",
       "    </tr>\n",
       "    <tr>\n",
       "      <th>23</th>\n",
       "      <td>33</td>\n",
       "      <td>599</td>\n",
       "      <td>Turn right ahead</td>\n",
       "    </tr>\n",
       "    <tr>\n",
       "      <th>24</th>\n",
       "      <td>14</td>\n",
       "      <td>690</td>\n",
       "      <td>Stop</td>\n",
       "    </tr>\n",
       "    <tr>\n",
       "      <th>25</th>\n",
       "      <td>31</td>\n",
       "      <td>690</td>\n",
       "      <td>Wild animals crossing</td>\n",
       "    </tr>\n",
       "    <tr>\n",
       "      <th>26</th>\n",
       "      <td>17</td>\n",
       "      <td>990</td>\n",
       "      <td>No entry</td>\n",
       "    </tr>\n",
       "    <tr>\n",
       "      <th>27</th>\n",
       "      <td>18</td>\n",
       "      <td>1080</td>\n",
       "      <td>General caution</td>\n",
       "    </tr>\n",
       "    <tr>\n",
       "      <th>28</th>\n",
       "      <td>35</td>\n",
       "      <td>1080</td>\n",
       "      <td>Ahead only</td>\n",
       "    </tr>\n",
       "    <tr>\n",
       "      <th>29</th>\n",
       "      <td>11</td>\n",
       "      <td>1170</td>\n",
       "      <td>Right-of-way at the next intersection</td>\n",
       "    </tr>\n",
       "    <tr>\n",
       "      <th>30</th>\n",
       "      <td>3</td>\n",
       "      <td>1260</td>\n",
       "      <td>Speed limit (60km/h)</td>\n",
       "    </tr>\n",
       "    <tr>\n",
       "      <th>31</th>\n",
       "      <td>8</td>\n",
       "      <td>1260</td>\n",
       "      <td>Speed limit (120km/h)</td>\n",
       "    </tr>\n",
       "    <tr>\n",
       "      <th>32</th>\n",
       "      <td>7</td>\n",
       "      <td>1290</td>\n",
       "      <td>Speed limit (100km/h)</td>\n",
       "    </tr>\n",
       "    <tr>\n",
       "      <th>33</th>\n",
       "      <td>9</td>\n",
       "      <td>1320</td>\n",
       "      <td>No passing</td>\n",
       "    </tr>\n",
       "    <tr>\n",
       "      <th>34</th>\n",
       "      <td>25</td>\n",
       "      <td>1350</td>\n",
       "      <td>Road work</td>\n",
       "    </tr>\n",
       "    <tr>\n",
       "      <th>35</th>\n",
       "      <td>5</td>\n",
       "      <td>1650</td>\n",
       "      <td>Speed limit (80km/h)</td>\n",
       "    </tr>\n",
       "    <tr>\n",
       "      <th>36</th>\n",
       "      <td>4</td>\n",
       "      <td>1770</td>\n",
       "      <td>Speed limit (70km/h)</td>\n",
       "    </tr>\n",
       "    <tr>\n",
       "      <th>37</th>\n",
       "      <td>10</td>\n",
       "      <td>1800</td>\n",
       "      <td>No passing for vehicles over 3.5 metric tons</td>\n",
       "    </tr>\n",
       "    <tr>\n",
       "      <th>38</th>\n",
       "      <td>38</td>\n",
       "      <td>1860</td>\n",
       "      <td>Keep right</td>\n",
       "    </tr>\n",
       "    <tr>\n",
       "      <th>39</th>\n",
       "      <td>12</td>\n",
       "      <td>1890</td>\n",
       "      <td>Priority road</td>\n",
       "    </tr>\n",
       "    <tr>\n",
       "      <th>40</th>\n",
       "      <td>13</td>\n",
       "      <td>1920</td>\n",
       "      <td>Yield</td>\n",
       "    </tr>\n",
       "    <tr>\n",
       "      <th>41</th>\n",
       "      <td>1</td>\n",
       "      <td>1980</td>\n",
       "      <td>Speed limit (30km/h)</td>\n",
       "    </tr>\n",
       "    <tr>\n",
       "      <th>42</th>\n",
       "      <td>2</td>\n",
       "      <td>2010</td>\n",
       "      <td>Speed limit (50km/h)</td>\n",
       "    </tr>\n",
       "  </tbody>\n",
       "</table>\n",
       "</div>"
      ],
      "text/plain": [
       "    SignIndex  Counts                                             Signal\n",
       "0           0     180                               Speed limit (20km/h)\n",
       "1          37     180                                Go straight or left\n",
       "2          19     180                        Dangerous curve to the left\n",
       "3          32     210                End of all speed and passing limits\n",
       "4          27     210                                        Pedestrians\n",
       "5          41     210                                  End of no passing\n",
       "6          42     210  End of no passing by vehicles over 3.5 metric ...\n",
       "7          24     240                          Road narrows on the right\n",
       "8          29     240                                  Bicycles crossing\n",
       "9          39     270                                          Keep left\n",
       "10         21     270                                       Double curve\n",
       "11         40     300                               Roundabout mandatory\n",
       "12         20     300                       Dangerous curve to the right\n",
       "13         36     330                               Go straight or right\n",
       "14         22     330                                         Bumpy road\n",
       "15          6     360                        End of speed limit (80km/h)\n",
       "16         16     360           Vehicles over 3.5 metric tons prohibited\n",
       "17         34     360                                    Turn left ahead\n",
       "18         30     390                                 Beware of ice/snow\n",
       "19         23     450                                      Slippery road\n",
       "20         28     480                                  Children crossing\n",
       "21         26     540                                    Traffic signals\n",
       "22         15     540                                        No vehicles\n",
       "23         33     599                                   Turn right ahead\n",
       "24         14     690                                               Stop\n",
       "25         31     690                              Wild animals crossing\n",
       "26         17     990                                           No entry\n",
       "27         18    1080                                    General caution\n",
       "28         35    1080                                         Ahead only\n",
       "29         11    1170              Right-of-way at the next intersection\n",
       "30          3    1260                               Speed limit (60km/h)\n",
       "31          8    1260                              Speed limit (120km/h)\n",
       "32          7    1290                              Speed limit (100km/h)\n",
       "33          9    1320                                         No passing\n",
       "34         25    1350                                          Road work\n",
       "35          5    1650                               Speed limit (80km/h)\n",
       "36          4    1770                               Speed limit (70km/h)\n",
       "37         10    1800       No passing for vehicles over 3.5 metric tons\n",
       "38         38    1860                                         Keep right\n",
       "39         12    1890                                      Priority road\n",
       "40         13    1920                                              Yield\n",
       "41          1    1980                               Speed limit (30km/h)\n",
       "42          2    2010                               Speed limit (50km/h)"
      ]
     },
     "execution_count": 37,
     "metadata": {},
     "output_type": "execute_result"
    }
   ],
   "source": [
    "count = pd.value_counts(y_train_init).sort_index()\n",
    "\n",
    "list_signals = pd.read_csv('signnames.csv')\n",
    "\n",
    "result = pd.DataFrame()\n",
    "result['SignIndex'] = count.index\n",
    "result['Counts'] = count.values\n",
    "result['Signal'] = list_signals['SignName'][count.index]\n",
    "\n",
    "result = result.sort_values(by=['Counts'], ascending=True)\n",
    "result = result.reset_index(drop=True)\n",
    "\n",
    "result.head(n=43)"
   ]
  },
  {
   "cell_type": "code",
   "execution_count": 38,
   "metadata": {
    "collapsed": true
   },
   "outputs": [],
   "source": [
    "mean_count = result['Counts'].mean()"
   ]
  },
  {
   "cell_type": "markdown",
   "metadata": {
    "collapsed": true
   },
   "source": [
    "# Normalizing"
   ]
  },
  {
   "cell_type": "code",
   "execution_count": 60,
   "metadata": {
    "collapsed": true
   },
   "outputs": [],
   "source": [
    "X_norm = np.array(X_train_init, dtype=np.float, copy=True)"
   ]
  },
  {
   "cell_type": "code",
   "execution_count": 61,
   "metadata": {
    "collapsed": true
   },
   "outputs": [],
   "source": [
    "channels = X_norm.shape[3]"
   ]
  },
  {
   "cell_type": "code",
   "execution_count": 62,
   "metadata": {},
   "outputs": [
    {
     "name": "stdout",
     "output_type": "stream",
     "text": [
      "Mean of the dataset before preprocessing: [86.698, 79.496, 81.839]\n",
      "\n",
      "Deviation of the dataset before preprocessing: [69.284, 66.270, 67.766]\n"
     ]
    }
   ],
   "source": [
    "# Inspect whether the data is centered\n",
    "print(\"Mean of the dataset before preprocessing: [{:.3f}, {:.3f}, {:.3f}]\".\\\n",
    "      format(X_norm[...,0].mean(),X_norm[...,1].mean(),X_norm[...,2].mean()))\n",
    "\n",
    "print()\n",
    "\n",
    "print(\"Deviation of the dataset before preprocessing: [{:.3f}, {:.3f}, {:.3f}]\".\\\n",
    "      format(X_norm[...,0].std(),X_norm[...,1].std(),X_norm[...,2].std()))"
   ]
  },
  {
   "cell_type": "code",
   "execution_count": 63,
   "metadata": {
    "collapsed": true
   },
   "outputs": [],
   "source": [
    "for ch in range(channels):\n",
    "    X_norm[...,ch] = (X_norm[...,ch] - X_norm[...,ch].mean()) / X_norm[...,ch].std()"
   ]
  },
  {
   "cell_type": "code",
   "execution_count": 64,
   "metadata": {},
   "outputs": [
    {
     "name": "stdout",
     "output_type": "stream",
     "text": [
      "Mean of the dataset after preprocessing: [-0.000, -0.000, -0.000]\n",
      "\n",
      "Deviation of the dataset after preprocessing: [1.000, 1.000, 1.000]\n"
     ]
    }
   ],
   "source": [
    "# Now, print the mean and deviation of the dataset after preprocessing\n",
    "print(\"Mean of the dataset after preprocessing: [{:.3f}, {:.3f}, {:.3f}]\".\\\n",
    "      format(X_norm[...,0].mean(),X_norm[...,1].mean(),X_norm[...,2].mean()))\n",
    "\n",
    "print()\n",
    "\n",
    "print(\"Deviation of the dataset after preprocessing: [{:.3f}, {:.3f}, {:.3f}]\".\\\n",
    "      format(X_norm[...,0].std(),X_norm[...,1].std(),X_norm[...,2].std()))"
   ]
  },
  {
   "cell_type": "code",
   "execution_count": 74,
   "metadata": {
    "collapsed": true
   },
   "outputs": [],
   "source": [
    "plt.imsave('examples/limit30_norm.png', X_norm[index])\n"
   ]
  },
  {
   "cell_type": "code",
   "execution_count": 76,
   "metadata": {
    "collapsed": true
   },
   "outputs": [],
   "source": [
    "def show2img(orig_img, proc_img):\n",
    "    plt.figure(figsize=(6, 6))\n",
    "    plt.subplot(1, 2, 1)\n",
    "    plt.imshow(orig_img)\n",
    "    plt.title(\"Original image\")\n",
    "    plt.subplot(1, 2, 2)\n",
    "    plt.imshow(proc_img)\n",
    "    plt.title(\"Normalized image\")\n",
    "    plt.show() "
   ]
  },
  {
   "cell_type": "code",
   "execution_count": 77,
   "metadata": {},
   "outputs": [
    {
     "data": {
      "image/png": "[encoded data removed]",
      "text/plain": [
       "<matplotlib.figure.Figure at 0x7f3fc2a8ec88>"
      ]
     },
     "metadata": {},
     "output_type": "display_data"
    }
   ],
   "source": [
    "show2img(image, X_norm[index])"
   ]
  },
  {
   "cell_type": "code",
   "execution_count": null,
   "metadata": {
    "collapsed": true
   },
   "outputs": [],
   "source": [
    "tra"
   ]
  },
  {
   "cell_type": "code",
   "execution_count": 45,
   "metadata": {},
   "outputs": [
    {
     "data": {
      "text/plain": [
       "34799"
      ]
     },
     "execution_count": 45,
     "metadata": {},
     "output_type": "execute_result"
    }
   ],
   "source": [
    "len(X_norm)"
   ]
  },
  {
   "cell_type": "markdown",
   "metadata": {},
   "source": [
    "# Image insertion"
   ]
  },
  {
   "cell_type": "code",
   "execution_count": 47,
   "metadata": {
    "collapsed": true
   },
   "outputs": [],
   "source": [
    "X_try = np.empty_like(X_norm)"
   ]
  },
  {
   "cell_type": "code",
   "execution_count": 48,
   "metadata": {},
   "outputs": [
    {
     "name": "stdout",
     "output_type": "stream",
     "text": [
      "(34799, 32, 32, 3)\n"
     ]
    }
   ],
   "source": [
    "print(X_norm.shape)"
   ]
  },
  {
   "cell_type": "code",
   "execution_count": 49,
   "metadata": {},
   "outputs": [
    {
     "name": "stdout",
     "output_type": "stream",
     "text": [
      "(34799, 32, 32, 3)\n"
     ]
    }
   ],
   "source": [
    "print(X_try.shape)"
   ]
  },
  {
   "cell_type": "code",
   "execution_count": 51,
   "metadata": {},
   "outputs": [
    {
     "data": {
      "text/plain": [
       "(32, 32, 3)"
      ]
     },
     "execution_count": 51,
     "metadata": {},
     "output_type": "execute_result"
    }
   ],
   "source": [
    "image.shape"
   ]
  },
  {
   "cell_type": "code",
   "execution_count": 52,
   "metadata": {
    "collapsed": true
   },
   "outputs": [],
   "source": [
    "image_array = []"
   ]
  },
  {
   "cell_type": "code",
   "execution_count": 53,
   "metadata": {
    "collapsed": true
   },
   "outputs": [],
   "source": [
    "image_array.append(image)"
   ]
  },
  {
   "cell_type": "code",
   "execution_count": 55,
   "metadata": {},
   "outputs": [
    {
     "data": {
      "text/plain": [
       "(1, 32, 32, 3)"
      ]
     },
     "execution_count": 55,
     "metadata": {},
     "output_type": "execute_result"
    }
   ],
   "source": [
    "np.asarray(image_array).shape"
   ]
  }
 ],
 "metadata": {
  "kernelspec": {
   "display_name": "Python 3",
   "language": "python",
   "name": "python3"
  },
  "language_info": {
   "codemirror_mode": {
    "name": "ipython",
    "version": 3
   },
   "file_extension": ".py",
   "mimetype": "text/x-python",
   "name": "python",
   "nbconvert_exporter": "python",
   "pygments_lexer": "ipython3",
   "version": "3.6.1"
  }
 },
 "nbformat": 4,
 "nbformat_minor": 2
}
