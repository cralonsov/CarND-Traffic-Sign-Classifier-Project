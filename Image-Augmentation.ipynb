{
 "cells": [
  {
   "cell_type": "code",
   "execution_count": 9,
   "metadata": {
    "collapsed": true
   },
   "outputs": [],
   "source": [
    "# Load pickled data\n",
    "import pickle\n",
    "\n",
    "training_file = 'train.p'\n",
    "validation_file= 'valid.p'\n",
    "testing_file = 'test.p'\n",
    "\n",
    "with open(training_file, mode='rb') as f:\n",
    "    train = pickle.load(f)\n",
    "    \n",
    "X_train_init, y_train_init = train['features'], train['labels']"
   ]
  },
  {
   "cell_type": "code",
   "execution_count": 10,
   "metadata": {
    "collapsed": true
   },
   "outputs": [],
   "source": [
    "import matplotlib.image as mpimg\n",
    "import numpy as np\n",
    "import matplotlib.pyplot as plt\n",
    "import random\n",
    "import cv2\n",
    "\n",
    "%matplotlib inline\n"
   ]
  },
  {
   "cell_type": "markdown",
   "metadata": {},
   "source": [
    "# Image Operations"
   ]
  },
  {
   "cell_type": "code",
   "execution_count": 11,
   "metadata": {},
   "outputs": [
    {
     "data": {
      "text/plain": [
       "<matplotlib.image.AxesImage at 0x7ff9adbac940>"
      ]
     },
     "execution_count": 11,
     "metadata": {},
     "output_type": "execute_result"
    },
    {
     "data": {
      "image/png": "[encoded data removed]",
      "text/plain": [
       "<matplotlib.figure.Figure at 0x7ff9bbe14710>"
      ]
     },
     "metadata": {},
     "output_type": "display_data"
    }
   ],
   "source": [
    "image = X_train_init[random.randint(0, len(X_train_init))]\n",
    "plt.imshow(image)"
   ]
  },
  {
   "cell_type": "code",
   "execution_count": 12,
   "metadata": {
    "collapsed": true
   },
   "outputs": [],
   "source": [
    "def rotation(img, max_angle):\n",
    "    # Rotation between 0 and max_angle degrees\n",
    "    angle = random.randint(0, max_angle)\n",
    "    \n",
    "    rows, cols,ch = img.shape\n",
    "    M = cv2.getRotationMatrix2D((cols/2,rows/2),angle,1)\n",
    "    \n",
    "    return(cv2.warpAffine(img,M,(cols,rows)))\n",
    "\n",
    "\n",
    "def perspective(img):\n",
    "    rows,cols,ch = img.shape\n",
    "    pts1 = np.float32([[1,4],[20,6],[2,28],[24,28]])\n",
    "    pts2 = np.float32([[0,0],[32,0],[0,32],[32,32]])\n",
    "    \n",
    "    M = cv2.getPerspectiveTransform(pts1,pts2)\n",
    "    \n",
    "    return(cv2.warpPerspective(img,M,(32,32)))  \n",
    "\n",
    "\n",
    "def affine_transform(img):\n",
    "    \n",
    "    rows,cols,ch = img.shape\n",
    "    \n",
    "    rnd1 = random.randint(0, int(rows/5))\n",
    "    rnd2 = random.randint(0, int(cols/5))\n",
    "    \n",
    "    pts1 = np.float32([[5,5],[25,5],[5,25]])\n",
    "    pts2 = np.float32([[0,0],[32,0],[10,32]])\n",
    "    M = cv2.getAffineTransform(pts1,pts2)\n",
    "    return(cv2.warpAffine(img,M,(cols,rows)))\n",
    "\n",
    "\n",
    "def random_transform(img, max_angle):\n",
    "    \n",
    "    # Rotation of the image\n",
    "    result = rotation(image, max_angle)\n",
    "    \n",
    "    \n",
    "    return result"
   ]
  },
  {
   "cell_type": "code",
   "execution_count": 13,
   "metadata": {},
   "outputs": [],
   "source": [
    "image2 = random_transform(image, 120)"
   ]
  },
  {
   "cell_type": "code",
   "execution_count": 14,
   "metadata": {},
   "outputs": [
    {
     "data": {
      "text/plain": [
       "<matplotlib.image.AxesImage at 0x7ff9a25563c8>"
      ]
     },
     "execution_count": 14,
     "metadata": {},
     "output_type": "execute_result"
    },
    {
     "data": {
      "image/png": "[encoded data removed]",
      "text/plain": [
       "<matplotlib.figure.Figure at 0x7ff9adbb68d0>"
      ]
     },
     "metadata": {},
     "output_type": "display_data"
    }
   ],
   "source": [
    "plt.imshow(image2)"
   ]
  },
  {
   "cell_type": "code",
   "execution_count": 15,
   "metadata": {
    "collapsed": true
   },
   "outputs": [],
   "source": [
    "image3 = perspective(image)"
   ]
  },
  {
   "cell_type": "code",
   "execution_count": 16,
   "metadata": {},
   "outputs": [
    {
     "data": {
      "text/plain": [
       "<matplotlib.image.AxesImage at 0x7ff9a246b390>"
      ]
     },
     "execution_count": 16,
     "metadata": {},
     "output_type": "execute_result"
    },
    {
     "data": {
      "image/png": "[encoded data removed]",
      "text/plain": [
       "<matplotlib.figure.Figure at 0x7ff9a24f0a90>"
      ]
     },
     "metadata": {},
     "output_type": "display_data"
    }
   ],
   "source": [
    "plt.imshow(image3)"
   ]
  },
  {
   "cell_type": "code",
   "execution_count": 17,
   "metadata": {},
   "outputs": [
    {
     "data": {
      "text/plain": [
       "<matplotlib.image.AxesImage at 0x7ff9a24009b0>"
      ]
     },
     "execution_count": 17,
     "metadata": {},
     "output_type": "execute_result"
    },
    {
     "data": {
      "image/png": "[encoded data removed]",
      "text/plain": [
       "<matplotlib.figure.Figure at 0x7ff9a242db38>"
      ]
     },
     "metadata": {},
     "output_type": "display_data"
    }
   ],
   "source": [
    "image4 = affine_transform(image)\n",
    "plt.imshow(image4)"
   ]
  },
  {
   "cell_type": "markdown",
   "metadata": {
    "collapsed": true
   },
   "source": [
    "# Normalizing"
   ]
  },
  {
   "cell_type": "code",
   "execution_count": 58,
   "metadata": {},
   "outputs": [],
   "source": [
    "X_norm = np.array(X_train_init, dtype=np.float, copy=True)"
   ]
  },
  {
   "cell_type": "code",
   "execution_count": 59,
   "metadata": {},
   "outputs": [],
   "source": [
    "channels = X_norm.shape[3]"
   ]
  },
  {
   "cell_type": "code",
   "execution_count": 60,
   "metadata": {},
   "outputs": [
    {
     "name": "stdout",
     "output_type": "stream",
     "text": [
      "Mean of the dataset before preprocessing: [86.698, 79.496, 81.839]\n",
      "\n",
      "Deviation of the dataset before preprocessing: [69.284, 66.270, 67.766]\n"
     ]
    }
   ],
   "source": [
    "# Inspect whether the data is centered\n",
    "print(\"Mean of the dataset before preprocessing: [{:.3f}, {:.3f}, {:.3f}]\".\\\n",
    "      format(X_norm[...,0].mean(),X_norm[...,1].mean(),X_norm[...,2].mean()))\n",
    "\n",
    "print()\n",
    "\n",
    "print(\"Deviation of the dataset before preprocessing: [{:.3f}, {:.3f}, {:.3f}]\".\\\n",
    "      format(X_norm[...,0].std(),X_norm[...,1].std(),X_norm[...,2].std()))"
   ]
  },
  {
   "cell_type": "code",
   "execution_count": 61,
   "metadata": {
    "collapsed": true
   },
   "outputs": [],
   "source": [
    "for ch in range(channels):\n",
    "    X_norm[...,ch] = (X_norm[...,ch] - X_norm[...,ch].mean()) / X_norm[...,ch].std()"
   ]
  },
  {
   "cell_type": "code",
   "execution_count": 62,
   "metadata": {},
   "outputs": [
    {
     "name": "stdout",
     "output_type": "stream",
     "text": [
      "Mean of the dataset after preprocessing: [-0.000, -0.000, -0.000]\n",
      "\n",
      "Deviation of the dataset after preprocessing: [1.000, 1.000, 1.000]\n"
     ]
    }
   ],
   "source": [
    "# Now, print the mean and deviation of the dataset after preprocessing\n",
    "print(\"Mean of the dataset after preprocessing: [{:.3f}, {:.3f}, {:.3f}]\".\\\n",
    "      format(X_norm[...,0].mean(),X_norm[...,1].mean(),X_norm[...,2].mean()))\n",
    "\n",
    "print()\n",
    "\n",
    "print(\"Deviation of the dataset after preprocessing: [{:.3f}, {:.3f}, {:.3f}]\".\\\n",
    "      format(X_norm[...,0].std(),X_norm[...,1].std(),X_norm[...,2].std()))"
   ]
  },
  {
   "cell_type": "code",
   "execution_count": 82,
   "metadata": {},
   "outputs": [
    {
     "data": {
      "text/plain": [
       "<matplotlib.image.AxesImage at 0x7ff9b9ec9320>"
      ]
     },
     "execution_count": 82,
     "metadata": {},
     "output_type": "execute_result"
    },
    {
     "data": {
      "image/png": "[encoded data removed]",
      "text/plain": [
       "<matplotlib.figure.Figure at 0x7ff9b9f57a58>"
      ]
     },
     "metadata": {},
     "output_type": "display_data"
    }
   ],
   "source": [
    "plt.imshow(X_norm[random.randint(0, len(X_norm))])"
   ]
  },
  {
   "cell_type": "code",
   "execution_count": 64,
   "metadata": {},
   "outputs": [
    {
     "name": "stdout",
     "output_type": "stream",
     "text": [
      "float64\n",
      "(34799, 32, 3)\n"
     ]
    },
    {
     "data": {
      "text/plain": [
       "(None, None)"
      ]
     },
     "execution_count": 64,
     "metadata": {},
     "output_type": "execute_result"
    }
   ],
   "source": [
    "print(X_norm.dtype), print(X_norm[:, 0].shape)"
   ]
  },
  {
   "cell_type": "code",
   "execution_count": null,
   "metadata": {
    "collapsed": true
   },
   "outputs": [],
   "source": []
  }
 ],
 "metadata": {
  "kernelspec": {
   "display_name": "Python 3",
   "language": "python",
   "name": "python3"
  },
  "language_info": {
   "codemirror_mode": {
    "name": "ipython",
    "version": 3
   },
   "file_extension": ".py",
   "mimetype": "text/x-python",
   "name": "python",
   "nbconvert_exporter": "python",
   "pygments_lexer": "ipython3",
   "version": "3.6.1"
  }
 },
 "nbformat": 4,
 "nbformat_minor": 2
}
